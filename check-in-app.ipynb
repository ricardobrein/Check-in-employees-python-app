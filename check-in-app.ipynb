{
 "cells": [
  {
   "cell_type": "code",
   "execution_count": 5,
   "metadata": {},
   "outputs": [
    {
     "ename": "IntegrityError",
     "evalue": "UNIQUE constraint failed: empleados.id_empleado",
     "output_type": "error",
     "traceback": [
      "\u001b[1;31m---------------------------------------------------------------------------\u001b[0m",
      "\u001b[1;31mIntegrityError\u001b[0m                            Traceback (most recent call last)",
      "Cell \u001b[1;32mIn[5], line 53\u001b[0m\n\u001b[0;32m     51\u001b[0m     id_empleado \u001b[39m=\u001b[39m \u001b[39mf\u001b[39m\u001b[39m\"\u001b[39m\u001b[39mE\u001b[39m\u001b[39m{\u001b[39;00mi\u001b[39m:\u001b[39;00m\u001b[39m03\u001b[39m\u001b[39m}\u001b[39;00m\u001b[39m\"\u001b[39m\n\u001b[0;32m     52\u001b[0m     nombre, apellido \u001b[39m=\u001b[39m employee\n\u001b[1;32m---> 53\u001b[0m     c\u001b[39m.\u001b[39;49mexecute(\u001b[39m\"\u001b[39;49m\u001b[39mINSERT INTO empleados (id_empleado, nombre, apellido) VALUES (?, ?, ?)\u001b[39;49m\u001b[39m\"\u001b[39;49m,\n\u001b[0;32m     54\u001b[0m               (id_empleado, nombre, apellido))\n\u001b[0;32m     55\u001b[0m     conn\u001b[39m.\u001b[39mcommit()\n\u001b[0;32m     56\u001b[0m conn\u001b[39m.\u001b[39mclose()\n",
      "\u001b[1;31mIntegrityError\u001b[0m: UNIQUE constraint failed: empleados.id_empleado"
     ]
    }
   ],
   "source": [
    "import sqlite3\n",
    "\n",
    "# Conexión a la base de datos\n",
    "conn = sqlite3.connect('check_app.db')\n",
    "c = conn.cursor()\n",
    "\n",
    "# Crearemos tres tablas\n",
    "\n",
    "c.execute('''CREATE TABLE IF NOT EXISTS registro_entradas\n",
    "             (id INTEGER PRIMARY KEY AUTOINCREMENT,\n",
    "              id_empleado TEXT,\n",
    "              employee_name TEXT,\n",
    "              checkin_type TEXT,\n",
    "              checkin_time TIMESTAMP)''')\n",
    "\n",
    "c.execute('''CREATE TABLE IF NOT EXISTS registro_salidas\n",
    "             (id INTEGER PRIMARY KEY AUTOINCREMENT,\n",
    "              id_empleado TEXT,\n",
    "              employee_name TEXT,\n",
    "              checkin_type TEXT,\n",
    "              checkin_time TIMESTAMP)''')\n",
    "\n",
    "c.execute('''CREATE TABLE IF NOT EXISTS empleados\n",
    "             (id INTEGER PRIMARY KEY,\n",
    "              id_empleado TEXT UNIQUE,\n",
    "              nombre TEXT,\n",
    "              apellido TEXT)''')\n",
    "\n",
    "# Datos de empleados ficticios\n",
    "empleados = [\n",
    "    (\"Ric\", \"Brein\"),\n",
    "    (\"Maria\", \"Perez\"),\n",
    "    (\"Michael\", \"Martinez\"),\n",
    "    (\"Emily\", \"Rodriguez\"),\n",
    "    (\"Daniel\", \"Soto\"),\n",
    "    (\"Olivia\", \"Ayuso\"),\n",
    "    (\"David\", \"Moreno\"),\n",
    "    (\"Sofia\", \"Hernandez\"),\n",
    "    (\"Matias\", \"Vegas\"),\n",
    "    (\"Clara\", \"Sanz\"),\n",
    "    (\"Andres\", \"Moreno\"),\n",
    "    (\"Mia\", \"Martinez\"),\n",
    "    (\"Benjamin\", \"Casado\"),\n",
    "    (\"Juan\", \"Iglesias\"),\n",
    "    (\"William\", \"Marin\")\n",
    "]\n",
    "\n",
    "# Agregar empleados a la tabla mediante la lista\n",
    "\n",
    "for i, employee in enumerate(empleados, start=1):\n",
    "    id_empleado = f\"E{i:03}\"\n",
    "    nombre, apellido = employee\n",
    "    c.execute(\"INSERT INTO empleados (id_empleado, nombre, apellido) VALUES (?, ?, ?)\",\n",
    "              (id_empleado, nombre, apellido))\n",
    "    conn.commit()\n",
    "conn.close()\n"
   ]
  },
  {
   "cell_type": "code",
   "execution_count": 6,
   "metadata": {},
   "outputs": [
    {
     "name": "stdout",
     "output_type": "stream",
     "text": [
      "Empleados agregados:\n",
      "ID: E001, Nombre: Ric Brein\n",
      "ID: E002, Nombre: Maria Perez\n",
      "ID: E003, Nombre: Michael Martinez\n",
      "ID: E004, Nombre: Emily Rodriguez\n",
      "ID: E005, Nombre: Daniel Soto\n",
      "ID: E006, Nombre: Olivia Ayuso\n",
      "ID: E007, Nombre: David Moreno\n",
      "ID: E008, Nombre: Sofia Hernandez\n",
      "ID: E009, Nombre: Matias Vegas\n",
      "ID: E010, Nombre: Clara Sanz\n",
      "ID: E011, Nombre: Andres Moreno\n",
      "ID: E012, Nombre: Mia Martinez\n",
      "ID: E013, Nombre: Benjamin Casado\n",
      "ID: E014, Nombre: Juan Iglesias\n",
      "ID: E015, Nombre: William Marin\n",
      "ID: E016, Nombre: Carlos Gómez\n",
      "ID: E017, Nombre: Susana horia\n",
      "ID: E018, Nombre: Aitor Tilla\n",
      "ID: E020, Nombre: Marta Perez\n",
      "ID: E021, Nombre: Jhonny Bravo\n"
     ]
    }
   ],
   "source": [
    "conn = sqlite3.connect('check_app.db')\n",
    "c = conn.cursor()\n",
    "# Consultar y mostrar los empleados agregados\n",
    "c.execute(\"SELECT * FROM empleados\")\n",
    "records = c.fetchall()\n",
    "print(\"Empleados agregados:\")\n",
    "for record in records:\n",
    "    print(f\"ID: {record[1]}, Nombre: {record[2]} {record[3]}\")\n",
    "\n",
    "# Cerrar la conexión a la base de datos\n",
    "conn.close()"
   ]
  }
 ],
 "metadata": {
  "kernelspec": {
   "display_name": "Python 3",
   "language": "python",
   "name": "python3"
  },
  "language_info": {
   "codemirror_mode": {
    "name": "ipython",
    "version": 3
   },
   "file_extension": ".py",
   "mimetype": "text/x-python",
   "name": "python",
   "nbconvert_exporter": "python",
   "pygments_lexer": "ipython3",
   "version": "3.10.11"
  },
  "orig_nbformat": 4
 },
 "nbformat": 4,
 "nbformat_minor": 2
}
